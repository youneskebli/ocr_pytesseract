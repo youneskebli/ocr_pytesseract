{
 "cells": [
  {
   "cell_type": "code",
   "execution_count": 6,
   "metadata": {},
   "outputs": [],
   "source": [
    "import pytesseract\n",
    "from PIL import Image\n",
    "import os\n",
    "\n",
    "image_folder = 'images'  \n",
    "\n",
    "with open('extracted_text.txt', 'w') as file:\n",
    "    for i in range(1, 6 + 1):  #6 is the number of pages\n",
    "        image_path = f'{image_folder}/outputname-{i}.jpg'\n",
    "        if os.path.exists(image_path):\n",
    "            text = pytesseract.image_to_string(Image.open(image_path))\n",
    "            file.write(f\"Text from page {i}:\\n{text}\\n\\n\")\n",
    "        else:\n",
    "            print(f\"Image file not found: {image_path}\")\n"
   ]
  }
 ],
 "metadata": {
  "kernelspec": {
   "display_name": "Python 3",
   "language": "python",
   "name": "python3"
  },
  "language_info": {
   "codemirror_mode": {
    "name": "ipython",
    "version": 3
   },
   "file_extension": ".py",
   "mimetype": "text/x-python",
   "name": "python",
   "nbconvert_exporter": "python",
   "pygments_lexer": "ipython3",
   "version": "3.8.10"
  }
 },
 "nbformat": 4,
 "nbformat_minor": 2
}
